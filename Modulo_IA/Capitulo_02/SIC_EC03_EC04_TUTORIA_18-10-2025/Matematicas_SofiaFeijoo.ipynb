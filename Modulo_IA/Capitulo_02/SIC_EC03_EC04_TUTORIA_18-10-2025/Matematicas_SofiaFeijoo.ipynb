{
 "cells": [
  {
   "cell_type": "markdown",
   "id": "9db17123",
   "metadata": {},
   "source": [
    "## Ejercicio 1\n",
    "\n",
    "**Matrices:**  \n",
    "A = [[1, 2], [3, 4]]  \n",
    "B = [[2, 0], [1, 2]]  \n",
    "\n",
    "1. Calcula A + B, A - B y el producto matricial A × B.  \n",
    "2. Calcula la traspuesta de A y la inversa de B (si existe).\n",
    "\n",
    "**Vectores:**  \n",
    "u = [1, 2]  \n",
    "v = [3, -1]  \n",
    "\n",
    "1. Calcula el producto interno u·v.  \n",
    "2. Calcula la magnitud de cada vector.  \n",
    "\n",
    "**Derivadas:**  \n",
    "f(x) = x**3 + 2*x**2 + x  \n",
    "\n",
    "1. Calcula la derivada primera y segunda de f(x).  \n",
    "2. Evalúa ambas derivadas en x = 1."
   ]
  },
  {
   "cell_type": "code",
   "execution_count": 1,
   "id": "95c73c01",
   "metadata": {},
   "outputs": [],
   "source": [
    "import numpy as np\n",
    "import sympy as sp"
   ]
  },
  {
   "cell_type": "code",
   "execution_count": null,
   "id": "3f1214bd",
   "metadata": {},
   "outputs": [
    {
     "name": "stdout",
     "output_type": "stream",
     "text": [
      "Matrix A:\n",
      " [[1 2]\n",
      " [3 4]]\n",
      "Matrix B:\n",
      " [[2 0]\n",
      " [1 2]]\n",
      "A + B :\n",
      " [[3 2]\n",
      " [4 6]]\n",
      "A - B :\n",
      " [[-1  2]\n",
      " [ 2  2]]\n",
      "A X B :\n",
      " [[ 4  4]\n",
      " [10  8]]\n",
      "Transpuesta de A:\n",
      " [[1 3]\n",
      " [2 4]]\n",
      "Inversa de B:\n",
      " [[ 0.5   0.  ]\n",
      " [-0.25  0.5 ]]\n"
     ]
    }
   ],
   "source": [
    "# Matrices\n",
    "A = np.array([[1, 2], [3, 4]])\n",
    "B = np.array([[2, 0], [1, 2]])\n",
    "print (\"Matrix A:\\n\", A)\n",
    "print (\"Matrix B:\\n\", B)\n",
    "\n",
    "# Operaciones con matrices\n",
    "C= A + B  # Suma\n",
    "D= A - B # Resta\n",
    "E= np.matmul(A, B)  # producto matricial\n",
    "print (\"A + B :\\n\", C)\n",
    "print (\"A - B :\\n\", D)\n",
    "print (\"A X B :\\n\", E)\n",
    "\n",
    "# Traspuesta\n",
    "A_T = A.T\n",
    "print (\"Transpuesta de A:\\n\", A_T)\n",
    "\n",
    "# Inversa\n",
    "det_B = np.linalg.det(B)\n",
    "B_inv = None\n",
    "if abs(det_B) > 1e-12:\n",
    "    B_inv = np.linalg.inv(B)\n",
    "\n",
    "print(\"Determinante de B:\", det_B)\n",
    "if B_inv is not None:\n",
    "    print(\"Inversa de B:\\n\", B_inv)"
   ]
  },
  {
   "cell_type": "code",
   "execution_count": null,
   "id": "36d18190",
   "metadata": {},
   "outputs": [
    {
     "name": "stdout",
     "output_type": "stream",
     "text": [
      "Producto punto u . v: 1\n",
      "Magnitud de u: 2.23606797749979\n",
      "Magnitud de v: 3.1622776601683795\n"
     ]
    }
   ],
   "source": [
    "# Vectores\n",
    "u = np.array([1, 2])\n",
    "v = np.array([3, -1])\n",
    "\n",
    "# Producto punto\n",
    "dot_uv = np.dot(u, v)\n",
    "print(\"Producto punto u . v:\", dot_uv)\n",
    "\n",
    "# Magnitud\n",
    "mag_u = np.linalg.norm(u)\n",
    "mag_v = np.linalg.norm(v)\n",
    "print(\"Magnitud de u:\", mag_u)\n",
    "print(\"Magnitud de v:\", mag_v)"
   ]
  },
  {
   "cell_type": "code",
   "execution_count": 9,
   "id": "77fb3cd2",
   "metadata": {},
   "outputs": [
    {
     "name": "stdout",
     "output_type": "stream",
     "text": [
      "Función f(x): x**3 + 2*x**2 + x\n",
      "Primera derivada f'(x): 3*x**2 + 4*x + 1\n",
      "Segunda derivada f''(x): 2*(3*x + 2)\n",
      "f'(1) = 8\n",
      "f''(1) = 10\n"
     ]
    }
   ],
   "source": [
    "# Derivadas\n",
    "x = sp.symbols('x')\n",
    "f = x**3 + 2*x**2 + x \n",
    "df_1 = sp.diff(f, x)  # Primera derivada\n",
    "df_2 = sp.diff(f, x, 2)  # Segunda derivada\n",
    "print(\"Función f(x):\", f)\n",
    "print(\"Primera derivada f'(x):\", df_1)\n",
    "print(\"Segunda derivada f''(x):\", df_2)\n",
    "\n",
    "# Evaluación de derivadas en un punto\n",
    "punto = 1\n",
    "df_1_eval = df_1.subs(x, punto)\n",
    "df_2_eval = df_2.subs(x, punto)\n",
    "print(f\"f'({punto}) =\", df_1_eval)\n",
    "print(f\"f''({punto}) =\", df_2_eval)"
   ]
  }
 ],
 "metadata": {
  "kernelspec": {
   "display_name": "py312",
   "language": "python",
   "name": "python3"
  },
  "language_info": {
   "codemirror_mode": {
    "name": "ipython",
    "version": 3
   },
   "file_extension": ".py",
   "mimetype": "text/x-python",
   "name": "python",
   "nbconvert_exporter": "python",
   "pygments_lexer": "ipython3",
   "version": "3.12.3"
  }
 },
 "nbformat": 4,
 "nbformat_minor": 5
}
