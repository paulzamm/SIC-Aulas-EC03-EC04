{
  "cells": [
    {
      "cell_type": "code",
      "execution_count": 1,
      "metadata": {
        "colab": {
          "base_uri": "https://localhost:8080/",
          "height": 224
        },
        "id": "V0gYeOEC2yQB",
        "outputId": "e8e18939-9df7-4891-8615-b05b9e56bd24"
      },
      "outputs": [
        {
          "name": "stdout",
          "output_type": "stream",
          "text": [
            "Vista del Dataset\n"
          ]
        },
        {
          "data": {
            "text/html": [
              "<div>\n",
              "<style scoped>\n",
              "    .dataframe tbody tr th:only-of-type {\n",
              "        vertical-align: middle;\n",
              "    }\n",
              "\n",
              "    .dataframe tbody tr th {\n",
              "        vertical-align: top;\n",
              "    }\n",
              "\n",
              "    .dataframe thead th {\n",
              "        text-align: right;\n",
              "    }\n",
              "</style>\n",
              "<table border=\"1\" class=\"dataframe\">\n",
              "  <thead>\n",
              "    <tr style=\"text-align: right;\">\n",
              "      <th></th>\n",
              "      <th>Unnamed: 0</th>\n",
              "      <th>TV</th>\n",
              "      <th>radio</th>\n",
              "      <th>newspaper</th>\n",
              "      <th>sales</th>\n",
              "    </tr>\n",
              "  </thead>\n",
              "  <tbody>\n",
              "    <tr>\n",
              "      <th>0</th>\n",
              "      <td>1</td>\n",
              "      <td>230.1</td>\n",
              "      <td>37.8</td>\n",
              "      <td>69.2</td>\n",
              "      <td>22.1</td>\n",
              "    </tr>\n",
              "    <tr>\n",
              "      <th>1</th>\n",
              "      <td>2</td>\n",
              "      <td>44.5</td>\n",
              "      <td>39.3</td>\n",
              "      <td>45.1</td>\n",
              "      <td>10.4</td>\n",
              "    </tr>\n",
              "    <tr>\n",
              "      <th>2</th>\n",
              "      <td>3</td>\n",
              "      <td>17.2</td>\n",
              "      <td>45.9</td>\n",
              "      <td>69.3</td>\n",
              "      <td>9.3</td>\n",
              "    </tr>\n",
              "    <tr>\n",
              "      <th>3</th>\n",
              "      <td>4</td>\n",
              "      <td>151.5</td>\n",
              "      <td>41.3</td>\n",
              "      <td>58.5</td>\n",
              "      <td>18.5</td>\n",
              "    </tr>\n",
              "    <tr>\n",
              "      <th>4</th>\n",
              "      <td>5</td>\n",
              "      <td>180.8</td>\n",
              "      <td>10.8</td>\n",
              "      <td>58.4</td>\n",
              "      <td>12.9</td>\n",
              "    </tr>\n",
              "  </tbody>\n",
              "</table>\n",
              "</div>"
            ],
            "text/plain": [
              "   Unnamed: 0     TV  radio  newspaper  sales\n",
              "0           1  230.1   37.8       69.2   22.1\n",
              "1           2   44.5   39.3       45.1   10.4\n",
              "2           3   17.2   45.9       69.3    9.3\n",
              "3           4  151.5   41.3       58.5   18.5\n",
              "4           5  180.8   10.8       58.4   12.9"
            ]
          },
          "execution_count": 1,
          "metadata": {},
          "output_type": "execute_result"
        }
      ],
      "source": [
        "# Ecuacion de regresión multiple\n",
        "# y = m1x1 + m2x2 + ... + mxnx + b\n",
        "\n",
        "# Predecir las ventas futuras a partir de los presupuestos de publicidad de cada mes con regresión lineal.\n",
        "\n",
        "import pandas as pd\n",
        "import numpy as np\n",
        "from sklearn.model_selection import train_test_split\n",
        "from sklearn.linear_model import LinearRegression\n",
        "from sklearn.metrics import mean_squared_error, r2_score, mean_absolute_error\n",
        "from sklearn.preprocessing import StandardScaler\n",
        "\n",
        "url = 'https://raw.githubusercontent.com/selva86/datasets/master/Advertising.csv'\n",
        "df = pd.read_csv(url)\n",
        "\n",
        "print(\"Vista del Dataset\")\n",
        "df.head()"
      ]
    },
    {
      "cell_type": "code",
      "execution_count": 2,
      "metadata": {
        "colab": {
          "base_uri": "https://localhost:8080/"
        },
        "id": "vU6eoxAJ3S4b",
        "outputId": "2595d3f2-6540-4d8e-9d2b-18902e3f0beb"
      },
      "outputs": [
        {
          "name": "stdout",
          "output_type": "stream",
          "text": [
            "\n",
            "Información general del Dataset\n",
            "<class 'pandas.core.frame.DataFrame'>\n",
            "RangeIndex: 200 entries, 0 to 199\n",
            "Data columns (total 5 columns):\n",
            " #   Column      Non-Null Count  Dtype  \n",
            "---  ------      --------------  -----  \n",
            " 0   Unnamed: 0  200 non-null    int64  \n",
            " 1   TV          200 non-null    float64\n",
            " 2   radio       200 non-null    float64\n",
            " 3   newspaper   200 non-null    float64\n",
            " 4   sales       200 non-null    float64\n",
            "dtypes: float64(4), int64(1)\n",
            "memory usage: 7.9 KB\n"
          ]
        }
      ],
      "source": [
        "print(\"\\nInformación general del Dataset\")\n",
        "df.info()"
      ]
    },
    {
      "cell_type": "code",
      "execution_count": 3,
      "metadata": {
        "colab": {
          "base_uri": "https://localhost:8080/",
          "height": 276
        },
        "id": "JCrwDOcN3bWC",
        "outputId": "754f611e-cfed-497d-9ebd-5cace0c697f0"
      },
      "outputs": [
        {
          "name": "stdout",
          "output_type": "stream",
          "text": [
            "\n",
            "Verificación de datos nulos\n"
          ]
        },
        {
          "data": {
            "text/plain": [
              "Unnamed: 0    0\n",
              "TV            0\n",
              "radio         0\n",
              "newspaper     0\n",
              "sales         0\n",
              "dtype: int64"
            ]
          },
          "execution_count": 3,
          "metadata": {},
          "output_type": "execute_result"
        }
      ],
      "source": [
        "# Verifiacicón y limpieza de datos nulos\n",
        "print(\"\\nVerificación de datos nulos\")\n",
        "df.isnull().sum()"
      ]
    },
    {
      "cell_type": "code",
      "execution_count": 4,
      "metadata": {
        "colab": {
          "base_uri": "https://localhost:8080/"
        },
        "id": "jmCLMjto37Zt",
        "outputId": "b3a3f7d5-8f59-43c8-fbcd-d25577a9c1d3"
      },
      "outputs": [
        {
          "name": "stdout",
          "output_type": "stream",
          "text": [
            "Datos de entrenamiento: (160, 4)\n",
            "Datos de prueba: (40, 4)\n"
          ]
        }
      ],
      "source": [
        "# División del conjunto de datos\n",
        "# Dividir una cantidad para prueba y otra cantidada para train\n",
        "\n",
        "# Variables independientes (quitar variable'sales'), TV, radio, newspaper.\n",
        "x = df.drop('sales', axis=1)\n",
        "\n",
        "# Variable dependiente (objetivo), sales.\n",
        "y = df['sales']\n",
        "\n",
        "# Dividir los datos en 4 conjuntos\n",
        "# text_size: el 20% de los datos se reservan para prueba.\n",
        "# - Para las variables test: 20%\n",
        "# - Para las variables train: 80%\n",
        "# random_state: valor de semilla = 42, tener una divisón fija\n",
        "x_train, x_test, y_train, y_test = train_test_split(x, y, test_size=0.2, random_state=42)\n",
        "\n",
        "print(f\"Datos de entrenamiento: {x_train.shape}\")\n",
        "print(f\"Datos de prueba: {x_test.shape}\")"
      ]
    },
    {
      "cell_type": "code",
      "execution_count": 5,
      "metadata": {
        "id": "eCtEfL-F44jc"
      },
      "outputs": [],
      "source": [
        "# Escalamiento de carácteristicas\n",
        "\n",
        "# Crear objeto para aplicar estandarización\n",
        "# - tranforma cada variable para que tenga: Media = 0, Desviación estándar = 1.\n",
        "scaler = StandardScaler()\n",
        "\n",
        "scaler.fit(x_train)\n",
        "\n",
        "# Usar las medias y desviaciones calculadas para estandarizar\n",
        "# transform aplica la transformación a datos (x - media / std)\n",
        "x_train_scaled = scaler.transform(x_train)\n",
        "\n",
        "# Transformar el conjunto de prueba\n",
        "x_test_scaled = scaler.transform(x_test)"
      ]
    },
    {
      "cell_type": "code",
      "execution_count": 6,
      "metadata": {
        "colab": {
          "base_uri": "https://localhost:8080/"
        },
        "id": "WOtOwBkU5Adp",
        "outputId": "bcfd33fe-cd3f-437f-8320-e3adf360ee3d"
      },
      "outputs": [
        {
          "name": "stdout",
          "output_type": "stream",
          "text": [
            "Primeras predicciones\n",
            "[16.41227699 20.84319293 21.51186915 10.65309994 22.12405753 13.12383506\n",
            " 21.03748883  7.50385439 13.64787029 15.12040886]\n"
          ]
        }
      ],
      "source": [
        "# Primeras predicciones\n",
        "\n",
        "model = LinearRegression()\n",
        "model.fit(x_train_scaled, y_train)\n",
        "\n",
        "y_pred = model.predict(x_test_scaled)\n",
        "\n",
        "print(\"Primeras predicciones\")\n",
        "print(y_pred[:10])"
      ]
    },
    {
      "cell_type": "code",
      "execution_count": 7,
      "metadata": {
        "colab": {
          "base_uri": "https://localhost:8080/"
        },
        "id": "TJzPDyrs5T39",
        "outputId": "95ef1e5a-89f9-4d35-8239-3a1967121163"
      },
      "outputs": [
        {
          "name": "stdout",
          "output_type": "stream",
          "text": [
            "Evaluación del modelo\n",
            "Error absoluto medio (MAE): 1.4650601050102923\n",
            "Error cuadrátio medio (MSE): 3.1990044685889005\n",
            "Raíz del error cuadrático medio (RMSE): 1.7885761008659655\n",
            "Coeficiente de determinación (R^2): 0.8986489151417081\n",
            "El modelo explica el 89.86% de la varianza.\n"
          ]
        }
      ],
      "source": [
        "# Evaluación del modelo\n",
        "\n",
        "# MAE:\n",
        "# Es el promedio de las diferencias absolutas entre valores reales y predichos\n",
        "mae = mean_absolute_error(y_test, y_pred)\n",
        "\n",
        "# MSE:\n",
        "# Promedo de los cuadrados de los errores\n",
        "mse = mean_squared_error(y_test, y_pred)\n",
        "\n",
        "# RMSE:\n",
        "# Raíz cuadrada del MSE, es la desviación estandar de los errores pedicción\n",
        "rmse = np.sqrt(mse)\n",
        "\n",
        "# r^2:\n",
        "# Indica que tan bien el modelo se ajusta a los datos.\n",
        "# 1 ajuste perfecto, modelo explica toda  la variabilidad. (ajustado)\n",
        "# 0 no explica nada de la variabilidad dependiente.\n",
        "r2 = r2_score(y_test, y_pred)\n",
        "\n",
        "print(\"Evaluación del modelo\")\n",
        "print(f\"Error absoluto medio (MAE): {mae}\")\n",
        "print(f\"Error cuadrátio medio (MSE): {mse}\")\n",
        "print(f\"Raíz del error cuadrático medio (RMSE): {rmse}\")\n",
        "print(f\"Coeficiente de determinación (R^2): {r2}\")\n",
        "print(f\"El modelo explica el {r2*100:.2f}% de la varianza.\")"
      ]
    },
    {
      "cell_type": "code",
      "execution_count": 8,
      "metadata": {
        "colab": {
          "base_uri": "https://localhost:8080/",
          "height": 472
        },
        "id": "62yJ6vIc5t_1",
        "outputId": "5e9a6a19-c27b-4a4b-8d0e-c2652eb9d0f6"
      },
      "outputs": [
        {
          "data": {
            "image/png": "[encoded data removed]",
            "text/plain": [
              "<Figure size 640x480 with 1 Axes>"
            ]
          },
          "metadata": {},
          "output_type": "display_data"
        }
      ],
      "source": [
        "import matplotlib.pyplot as plt\n",
        "\n",
        "residuos = y_test - y_pred\n",
        "\n",
        "plt.scatter(y_pred, residuos, alpha = 0.7, edgecolors='k')\n",
        "plt.axhline(y=0, color='r', linestyle='--', linewidth=2)\n",
        "plt.title(\"Gráfico de residuos del modelo de regresión lineal\")\n",
        "plt.xlabel(\"Valores predichos de ventas\")\n",
        "plt.ylabel(\"Residuos (Error de predicción)\")\n",
        "plt.show()\n"
      ]
    },
    {
      "cell_type": "markdown",
      "metadata": {
        "id": "4MOpyD00-APb"
      },
      "source": [
        "- (5-12) Los residuos tienen mayor dispersión y tendencia negativa.\n",
        "- (20-22.5) Los residuos están más concentrados cerca de cero.\n",
        "- El modelo es más preciso para predecir ventas altas."
      ]
    }
  ],
  "metadata": {
    "colab": {
      "provenance": []
    },
    "kernelspec": {
      "display_name": "Python 3",
      "name": "python3"
    },
    "language_info": {
      "codemirror_mode": {
        "name": "ipython",
        "version": 3
      },
      "file_extension": ".py",
      "mimetype": "text/x-python",
      "name": "python",
      "nbconvert_exporter": "python",
      "pygments_lexer": "ipython3",
      "version": "3.13.7"
    }
  },
  "nbformat": 4,
  "nbformat_minor": 0
}
